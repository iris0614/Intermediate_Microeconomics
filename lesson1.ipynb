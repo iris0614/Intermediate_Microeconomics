{
 "cells": [
  {
   "cell_type": "markdown",
   "metadata": {},
   "source": [
    "# Intermediate Microeconomics"
   ]
  },
  {
   "cell_type": "markdown",
   "metadata": {},
   "source": [
    "## PREFACE\n",
    "- 微积分不仅仅是文本论点的一个注释，而是一种更深入的方法，可以用来研究同样的问题，这些问题也可以通过文字和图表进行探讨.\n",
    "- 每个经济学学生都应该能够将经济故事转化为一个方程或一个数值示例."
   ]
  },
  {
   "cell_type": "markdown",
   "metadata": {},
   "source": [
    "<img src=\"img/structure.png\" width=\"800\"/>"
   ]
  },
  {
   "cell_type": "markdown",
   "metadata": {},
   "source": [
    "## 第一章 市场 THE MARKET\n",
    "\n",
    "> “经济学的范围和方法”是非常重要的。在你看到一些经济分析的实际应用之前，很难理解这种讨论的重要性。因此，我们将以一个经济分析的例子开始本课程。在本章中，我们将研究一个特定市场的模型——公寓市场。\n",
    "\n",
    "\n",
    "### 1.1 构建模型 Constructing a Model\n",
    "- 一个模型的力量来自于消除不相关的细节，这使经济学家能够专注于他们试图理解的经济现实的基本特征。\n",
    "- 第一个简化:假设所有的公寓在各个方面都是相同的，唯一的区别是位置。\n",
    "### 1.2 优化与均衡 Optimization and Equilibrium\n",
    "每当我们试图解释人类的行为时，我们都需要有一个可以作为分析依据的框架。在大部分经济学中，我们使用基于以下`两个`简单原则的框架。\n",
    "- 优化原则：人们试图选择他们能负担得起的最佳消费模式。\n",
    "- 均衡原则：价格不断调整，直到人们对某物的需求量等于供应量。\n"
   ]
  },
  {
   "cell_type": "markdown",
   "metadata": {},
   "source": [
    "### 1.3 需求曲线 The Demand Curve\n",
    "<img src=\"img/1.1.png\" width=\"800\"/>"
   ]
  },
  {
   "cell_type": "markdown",
   "metadata": {},
   "source": [
    "<img src=\"img/1.2.png\" width=\"800\"/>"
   ]
  },
  {
   "cell_type": "markdown",
   "metadata": {},
   "source": [
    "### 1.4 供给曲线 The Supply Curve\n",
    "- 我们将考虑的情况是，有许多独立房东，他们各自以市场能承受的最高价格出租公寓。我们将这种情况称为`竞争市场`。\n",
    "- 但在`短期`内——比如说在一年内——公寓数量或多或少是固定的。如果我们只考虑这种短期情况，公寓的供应量将保持在某个预定水平。\n",
    "<img src=\"img/1.3.png\" width=\"800\"/>"
   ]
  },
  {
   "cell_type": "markdown",
   "metadata": {},
   "source": [
    "### 1.5 市场均衡 Market Equilibrium\n",
    "<img src=\"img/1.4.png\" width=\"800\"/>\n",
    "\n",
    "\n",
    "在这个价格下，每个愿意支付至少 $p^{*}$ 的消费者都能找到一套公寓出租，每个房东都能以现行市场价格出租公寓。消费者和房东都没有理由改变他们的行为。这就是为什么我们将其称为均衡：不会观察到任何行为变化。"
   ]
  },
  {
   "cell_type": "markdown",
   "metadata": {},
   "source": [
    "### 1.6 比较静态 Comparative Statics\n",
    "例如，我们可以问当市场的各个方面发生变化时，公寓的价格会如何变化。这种练习被称为比较静态，因为它涉及比较两个“静态”均衡，而不必担心市场如何从一种均衡转变为另一种均衡。比较静态分析仅关注比较均衡。"
   ]
  },
  {
   "cell_type": "markdown",
   "metadata": {},
   "source": [
    "<img src=\"img/1.5.png\" width=\"800\"/>"
   ]
  },
  {
   "cell_type": "markdown",
   "metadata": {},
   "source": [
    "Turn several of the apartments into condominiums\n",
    "\n",
    "\n",
    "<img src=\"img/1.6.png\" width=\"800\"/>"
   ]
  },
  {
   "cell_type": "markdown",
   "metadata": {},
   "source": [
    "公寓税的影响\n",
    "\n",
    "假设市议会决定每年对公寓征收 50 美元的税。因此，每个房东每年必须为其拥有的每套公寓向市政府缴纳 50 美元。这会对公寓价格产生什么影响？\n",
    "\n",
    "\n",
    "大多数人会认为至少有一部分税收会转嫁给公寓租户。但令人惊讶的是，事实并非如此。事实上，公寓的均衡价格将保持不变！\n",
    "为了验证这一点，我们必须问需求曲线和供给曲线会发生什么变化。\n",
    "- 供给曲线没有变化——征税后公寓的数量与征税前一样多。\n",
    "- 需求曲线也没有变化，因为以不同价格出租的公寓数量也相同。如果需求曲线和供给曲线都没有变化，价格就不会因税收而改变。这里有一种思考这种税收影响的方法。在征税之前，每个房东都在收取他能得到的最高价格，以保持他的公寓有人居住。均衡价格 $p^{*}$ 是可以收取的最高价格，与所有出租的公寓兼容。\n",
    "- 征税后，房东可以提高价格来补偿税收吗？答案是`否定`的：如果他们可以提高价格并保持公寓有人居住，他们早就这么做了。如果他们收取市场可以承受的最高价格，房东就不能再提高价格了：税收不能转嫁给租户。房东必须支付全部税款。\n",
    "\n",
    "这种分析依赖于`公寓供应量保持不变`的假设。如果公寓数量会随着税收的变化而变化，那么租户支付的价格通常会发生变化。在我们建立了一些更强大的工具来分析此类问题之后，我们将在稍后研究这种行为。"
   ]
  },
  {
   "cell_type": "markdown",
   "metadata": {},
   "source": [
    "### 1.7 分配公寓的其他方式 Other Ways to Allocate Apartments\n",
    "#### 1.7.1 歧视性垄断者 The Discriminating Monopolist\n",
    "市场由单一产品卖家主导的情况被称为垄断。\n",
    "在出租公寓时，房东可以决定将它们逐一拍卖给出价最高的人。由于这意味着不同的人最终会为公寓支付不同的价格，我们将其称为歧视性垄断者的情况。\n",
    "为简单起见，我们假设有歧视的垄断者知道每个人的公寓保留价格。（这不太现实，但它可以说明一个重要的观点。）\n",
    ">`Discriminating`可以翻译为“区别对待”或“差别对待”。在经济学中，特别是在讨论垄断时，`Discriminating`指的是企业或垄断者根据消费者的不同特征（如支付意愿、地区、购买量等）对其进行差别对待，设置不同的价格或提供不同的服务。这种行为被称为“价格歧视”或“差别定价”，目的是最大化利润。\n"
   ]
  },
  {
   "cell_type": "markdown",
   "metadata": {},
   "source": [
    "<img src=\"img/1.1.png\" width=\"800\"/>"
   ]
  },
  {
   "cell_type": "markdown",
   "metadata": {},
   "source": [
    "<img src=\"img//Discriminating_Monopolist.png\" width=\"800\"/>"
   ]
  },
  {
   "cell_type": "markdown",
   "metadata": {},
   "source": [
    "#### 1.7.2 普通垄断者 The Ordinary Monopolist\n",
    "在这种情况下，垄断者会发现不出租所有公寓符合自己的利益。事实上，垄断者通常都是这种情况。\n",
    "<img src=\"img//1.7.png\" width=\"800\"/>"
   ]
  },
  {
   "cell_type": "markdown",
   "metadata": {},
   "source": [
    "#### 1.7.3 租金管制 Rent Control\n",
    "在租金管制(p < $p^{*}$)的情况下，消费者的境况是否更好？\n",
    "\n",
    "- 面临需求过剩(excess demand)的情况：愿意以最高价格租房的人比可用的公寓数量还多。\n",
    "- 谁最终会得到这些公寓？更有可能的是，一些以前住在外环的人最终会住进内环的公寓，从而取代那些在市场体系下会住在那里的人。\n",
    "- 因此，在租金管制下，以租金管制价格出租的公寓数量与在竞争价格下出租的公寓数量相同：只是它们会租给不同的人。\n"
   ]
  },
  {
   "cell_type": "markdown",
   "metadata": {},
   "source": [
    "### 1.8 哪种方法最好？Which Way Is Best?\n",
    "- 竞争市场 The competitive market\n",
    "- 有歧视的垄断者 A discriminating monopolist\n",
    "- 普通的垄断者 An ordinary monopolist\n",
    "- 租金管制 Rent control\n",
    "  \n",
    "但首先我们必须定义“最佳”。"
   ]
  },
  {
   "cell_type": "markdown",
   "metadata": {},
   "source": [
    "### 1.9 帕累托效率 Pareto Efficiency\n",
    "- 如果我们能找到一种方法，让一些人的生活变好，而不会让其他人的生活变得更糟，我们就实现了帕累托改进`Pareto improvement`。\n",
    "- 如果一种分配方式可以实现帕累托改进，就称为帕累托低效`Pareto inefficient`；如果一种分配方式无法实现帕累托改进，就称为帕累托高效`Pareto efficient`。\n",
    "- 所有自愿交易都已完成的分配是帕累托有效分配`Pareto efficient allocation`。\n"
   ]
  },
  {
   "cell_type": "markdown",
   "metadata": {},
   "source": [
    "### 1.10 公寓分配方式比较 Comparing Ways to Allocate Apartments\n",
    "帕累托效率并没有过多地谈论贸易收益的分配。它只关心贸易的效率：是否已经进行了所有可能的交易。"
   ]
  },
  {
   "cell_type": "markdown",
   "metadata": {},
   "source": [
    "### 1.11 长期均衡 Equilibrium in the Long Run\n",
    "我们已经分析了短期内公寓的均衡定价——当公寓供应量固定时。但从长期来看，公寓的供应量可能会发生变化。正如需求曲线衡量以不同价格需求的公寓数量一样，供应曲线衡量以不同价格供应的公寓数量。"
   ]
  },
  {
   "cell_type": "markdown",
   "metadata": {},
   "source": [
    "## 总结\n",
    "- `demand curve`： a curve that relates the `quantity` demanded to `price`.\n",
    "- `reservation price`： The `reservation price` is the highest price that a given person will accept and still purchase the good. In other words, a person’s reservation price is the price at which he or she is just indifferent between purchasing or not purchasing the good.\n",
    "- `equilibrium price` of apartments： the price where the `quantity of apartments demanded` equals `the quantity supplied`. \n",
    "- If we can find a way to make some people better off without making anybody else worse off, we have a `Pareto improvement`.If an allocation `allows for a Pareto improvement`, it is called `Pareto inefficient`; if an allocation is such that `no Pareto improvements are possible`, it is called `Pareto efficient`.\n"
   ]
  }
 ],
 "metadata": {
  "kernelspec": {
   "display_name": "575",
   "language": "python",
   "name": "python3"
  },
  "language_info": {
   "codemirror_mode": {
    "name": "ipython",
    "version": 3
   },
   "file_extension": ".py",
   "mimetype": "text/x-python",
   "name": "python",
   "nbconvert_exporter": "python",
   "pygments_lexer": "ipython3",
   "version": "3.12.2"
  }
 },
 "nbformat": 4,
 "nbformat_minor": 2
}
